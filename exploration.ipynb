{
  "nbformat": 4,
  "nbformat_minor": 0,
  "metadata": {
    "colab": {
      "provenance": [],
      "include_colab_link": true
    },
    "kernelspec": {
      "name": "python3",
      "display_name": "Python 3"
    },
    "language_info": {
      "name": "python"
    }
  },
  "cells": [
    {
      "cell_type": "markdown",
      "metadata": {
        "id": "view-in-github",
        "colab_type": "text"
      },
      "source": [
        "<a href=\"https://colab.research.google.com/github/Aminatayade/Aminatayade/blob/main/exploration.ipynb\" target=\"_parent\"><img src=\"https://colab.research.google.com/assets/colab-badge.svg\" alt=\"Open In Colab\"/></a>"
      ]
    },
    {
      "cell_type": "markdown",
      "source": [
        "**Pipeline**\n",
        "\n",
        "**1. Exploration**<br>\n",
        "**2. Réduction de dimension**<br>\n",
        "**3. Classification et amélioration du service**<br>"
      ],
      "metadata": {
        "id": "2GJR3Ne2sPuT"
      }
    },
    {
      "cell_type": "markdown",
      "source": [
        "**Context:** Dans ce projet, notre objectif principal est de développer des modèles de classification prédictive pour évaluer la propension à la fidélité des nouveaux clients dans le secteur des services. Nous entreprendrons une série d'étapes méthodologiques, commençant par la collecte et le prétraitement des données des clients, en passant par une exploration approfondie des caractéristiques influençant la fidélité. Ensuite, nous sélectionnerons les variables pertinentes et développerons plusieurs modèles de classification, en utilisant des techniques telles que les arbres de décision et les réseaux de neurones. Ces modèles seront évalués et optimisés pour garantir leur précision et leur capacité à généraliser sur de nouveaux ensembles de données. En fin de compte, nos résultats permettront aux entreprises de services de prendre des décisions plus éclairées en matière de gestion de la clientèle et de rétention."
      ],
      "metadata": {
        "id": "-9udH_RJuP-k"
      }
    },
    {
      "cell_type": "markdown",
      "source": [
        "# **1. Exploration**"
      ],
      "metadata": {
        "id": "vXGWO0G1siBx"
      }
    },
    {
      "cell_type": "markdown",
      "source": [
        "L'exploration des données consiste à analyser et visualiser les ensembles de données pour identifier des motifs, des tendances et des anomalies, facilitant ainsi la compréhension et la préparation des données pour l'apprentissage automatique.\n",
        "\n",
        "**Outils: Pandas, Matplotlib et Seaborn**"
      ],
      "metadata": {
        "id": "jvSmerestLrK"
      }
    },
    {
      "cell_type": "code",
      "source": [],
      "metadata": {
        "id": "1cxvZgJqs60-"
      },
      "execution_count": null,
      "outputs": []
    },
    {
      "cell_type": "markdown",
      "source": [
        "## **Méthode univarié**"
      ],
      "metadata": {
        "id": "geTLdvPuskw6"
      }
    },
    {
      "cell_type": "markdown",
      "source": [
        "L'exploration des données univariée consiste à analyser chaque variable individuellement pour résumer et comprendre ses caractéristiques essentielles, telles que la distribution, la tendance centrale et la dispersion."
      ],
      "metadata": {
        "id": "rW_wsOy8ttvx"
      }
    },
    {
      "cell_type": "code",
      "source": [],
      "metadata": {
        "id": "qw62yVaCsMem"
      },
      "execution_count": null,
      "outputs": []
    },
    {
      "cell_type": "markdown",
      "source": [
        "## **Méthode bivariée**"
      ],
      "metadata": {
        "id": "8WjY_l2Vs0Nc"
      }
    },
    {
      "cell_type": "markdown",
      "source": [
        "L'exploration des données bivariée consiste à analyser deux variables simultanément pour comprendre la relation entre elles, en utilisant des méthodes telles que les tableaux croisés, les diagrammes de dispersion et les coefficients de corrélation."
      ],
      "metadata": {
        "id": "HDc_aAalt04-"
      }
    },
    {
      "cell_type": "code",
      "source": [],
      "metadata": {
        "id": "BK2SynXCs4uU"
      },
      "execution_count": null,
      "outputs": []
    },
    {
      "cell_type": "markdown",
      "source": [
        "# **Réduction de dimension**"
      ],
      "metadata": {
        "id": "j3pVY6Xws-6b"
      }
    },
    {
      "cell_type": "markdown",
      "source": [
        "La réduction de dimension est une technique utilisée pour diminuer le nombre de variables dans un ensemble de données tout en conservant l'essentiel de l'information. Cela facilite l'analyse, réduit le coût computationnel et peut améliorer les performances des algorithmes de machine learning.\n",
        "\n",
        "**Outils: sklearn et/ou prince**"
      ],
      "metadata": {
        "id": "_n01_6Iet9VT"
      }
    },
    {
      "cell_type": "code",
      "source": [],
      "metadata": {
        "id": "o3VgmfTntBnG"
      },
      "execution_count": null,
      "outputs": []
    },
    {
      "cell_type": "markdown",
      "source": [
        "# **3. Classification et amélioration du service**"
      ],
      "metadata": {
        "id": "7O5Bq9bEtCfi"
      }
    },
    {
      "cell_type": "markdown",
      "source": [
        "La classification est une tâche d'apprentissage automatique supervisée où l'objectif est de prédire la classe ou la catégorie d'appartenance d'un ensemble de données en fonction de caractéristiques préalablement observées.\n",
        "\n",
        "**Outils: Sklearn**"
      ],
      "metadata": {
        "id": "DyQ5z6XeuOK1"
      }
    },
    {
      "cell_type": "code",
      "source": [],
      "metadata": {
        "id": "P7Gm4sH2tG5U"
      },
      "execution_count": null,
      "outputs": []
    }
  ]
}